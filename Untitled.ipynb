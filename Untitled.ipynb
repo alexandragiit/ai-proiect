{
 "cells": [
  {
   "cell_type": "code",
   "execution_count": 291,
   "metadata": {},
   "outputs": [],
   "source": [
    "import numpy as np\n",
    "import pickle, gzip\n",
    "np.set_printoptions(precision=5, suppress = True)\n",
    "import math\n",
    "from tqdm import tnrange\n",
    "import pandas as pd"
   ]
  },
  {
   "cell_type": "code",
   "execution_count": 447,
   "metadata": {},
   "outputs": [],
   "source": [
    "fileName = 'polidataset.csv'\n",
    "class skynet: \n",
    "    def __init__(self, num_layers, num_neurons_layer, rate, activation, n_epoch):\n",
    "        self.num_layers = num_layers\n",
    "        self.num_neurons = num_neurons_layer\n",
    "        self.rate = rate\n",
    "        self.activation = activation # [\"sigmoid\", \"softmax\" ...]\n",
    "        self.weights = {}\n",
    "        self.new_weights = {}\n",
    "        self.bias = {}\n",
    "        self.layer_error = {} \n",
    "        self.layers = {}\n",
    "        self.n_epoch = n_epoch\n",
    "        self.act_function = {\"sigmoid\":self.sigmoid, \"softmax\":self.softmax, \"linear\":self.linear, \"relu\":self.relu}\n",
    "        self.dataset = np.array([])\n",
    "        self.originalDataset = np.array([])\n",
    "\n",
    "    def normalize(self, data):\n",
    "        \n",
    "        from sklearn import preprocessing\n",
    "\n",
    "        #returns a numpy array\n",
    "        min_max_scaler = preprocessing.MinMaxScaler()\n",
    "        x_scaled = min_max_scaler.fit_transform(data)\n",
    "        return x_scaled\n",
    "        # normalizarea presupune ca toate valorile sa fie numerice si sa fie in [0, 1]\n",
    "#         upperLimit = 1\n",
    "#         return ((self.dataset-self.dataset.min())/(self.dataset.max()-self.dataset.min()))*upperLimit\n",
    "\n",
    "\n",
    "    def load_dataset(self, name, normalize = True):\n",
    "        self.dataset = pd.read_csv(name)\n",
    "        self.originalDataset = self.dataset[:]\n",
    "        # frac specifica fractiunea de randuri pe care sa le returnezi intr un sample random\n",
    "        # deci frac=1 zice sa returnam toate randurile (random)\n",
    "        self.dataset = self.dataset.sample(frac=1)\n",
    "        \n",
    "#         if(normalize):\n",
    "            # normalizam datele\n",
    "#             self.dataset = self.normalize()\n",
    "#         else:\n",
    "#             self.dataset = self.originalDataset[:]\n",
    "\n",
    "        # impart datele in tempSet + validationSet, apoi tempSet in testSet + trainingSet\n",
    "        msk = np.random.rand(len(self.dataset)) <= 0.9\n",
    "        tempset = self.dataset[msk]\n",
    "        testset = self.dataset[~msk]\n",
    "        msk = np.random.rand(len(tempset)) <= 0.9\n",
    "        trainingset = tempset[msk]\n",
    "        validationset = tempset[~msk]\n",
    "        \n",
    "        trainingset = np.array(trainingset)\n",
    "        validationset = np.array(validationset)\n",
    "        testset = np.array(testset)\n",
    "        l = trainingset.shape[1]\n",
    "        \n",
    "        self.ninput = trainingset.shape[0] # number of instances\n",
    "        self.ndata = trainingset.shape[1] -1  # number of atributes -1 = minus target\n",
    "        \n",
    "        return trainingset[:,0:l-1], trainingset[:,l-1], validationset[:,0:l-1], validationset[:,l-1], testset[:,0:l-1], testset[:,l-1]\n",
    "\n",
    "    def oneHot(self, num):\n",
    "        a = np.zeros((10,1))\n",
    "        a[num] = 1\n",
    "        return a\n",
    "    \n",
    "    def linear(self, layer):\n",
    "        return layer\n",
    "    \n",
    "    def sigmoid(self, layer):\n",
    "        new = np.ones(layer.shape, dtype = float)\n",
    "        for i in range(new.shape[0]):\n",
    "            new[i] = 1 / (1 + np.exp(-layer[i]))\n",
    "        return new\n",
    "    \n",
    "    def softmax(self, layer):\n",
    "        new = np.ones(layer.shape, dtype = float)\n",
    "        suma = 0\n",
    "        for i in range(new.shape[0]):\n",
    "            new[i] = np.exp(layer[i])\n",
    "            suma += new[i]\n",
    "        new = new / suma\n",
    "        return new\n",
    "    \n",
    "    def relu(self, layer):\n",
    "        new = np.zeros(layer.shape, dtype = float)\n",
    "        for i in range(new.shape[0]):\n",
    "            if(layer[i] > 0):\n",
    "                new[i] = layer[i]\n",
    "        return new\n",
    "    \n",
    "    def load_number_dataset(self):\n",
    "        ''' data has to be type numpy.ndarray '''\n",
    "        # iau datele dintr-un fisier cu pickle\n",
    "        f = gzip.open('mnist.pkl.gz', 'rb')\n",
    "        train_set, valid_set, test_set = pickle.load(f, encoding='latin1')\n",
    "        f.close()\n",
    "\n",
    "        # vectorii astia sunt folositi pentru antrenarea retelei\n",
    "        self.train_data = train_set[0] # shape (50000,784) adica 50000 de vectori de dimensiune 784 ce reprezinta 50000 de poze cu cifre\n",
    "        self.train_target = train_set[1] # shape (50000, ) reprezinta numarul desenat in fiecare imagine \n",
    "\n",
    "        # vecotrii astia sunt folositi pentru testarea retelei\n",
    "        self.test_data = test_set[0]\n",
    "        self.test_target = test_set[1]\n",
    "\n",
    "        self.ninput = self.train_data.shape[0]\n",
    "        self.ndata = self.train_data.shape[1]\n",
    "        \n",
    "        return train_set, valid_set, test_set\n",
    "    \n",
    "    \n",
    "    def train(self, train_data, train_target):\n",
    "        self.weights[0] = np.random.normal(0.0, 1/math.sqrt(self.ndata), (self.num_neurons[0], self.ndata))\n",
    "#         self.weights[0] = np.ones((self.num_neurons[0], self.ndata))\n",
    "        self.bias[0] = np.ones((self.num_neurons[0],1))\n",
    "#         print(self.weights[0].shape)\n",
    "        for i in range(1,self.num_layers):     \n",
    "            self.weights[i] = np.random.normal(0.0, 1/math.sqrt(self.num_neurons[i-1]), (self.num_neurons[i], self.num_neurons[i-1]))      \n",
    "#             self.weights[i] = np.ones((self.num_neurons[i], self.num_neurons[i-1]))\n",
    "#             print(self.weights[i].shape)\n",
    "            self.bias[i] = np.ones((self.num_neurons[i],1))\n",
    "        \n",
    "        self.new_weights = self.weights\n",
    "        \n",
    "        for ep in range(self.n_epoch):\n",
    "            for j, data in enumerate(train_data):\n",
    "               \n",
    "                # feed forward\n",
    "                layer = data.reshape((data.shape[0], 1))\n",
    "               \n",
    "                for i in range(self.num_layers):\n",
    "#                     print(self.weights[i], layer)\n",
    "                    result = np.dot(self.weights[i], layer) #+ self.bias[i]\n",
    "#                     print(\"resullt;\",result)\n",
    "                    act = self.act_function[self.activation[i]](result)\n",
    "#                     print(\"act:\",act)\n",
    "                    self.layers[i] = act\n",
    "                    layer = act\n",
    "#                     print(\"act:\",layer, layer.shape)\n",
    "#                 if(j == 10):\n",
    "#                     return 0\n",
    "                # backpropagation\n",
    "                # last layer calc error\n",
    "                last_error = self.layers[self.num_layers-1] - self.oneHot(train_target[j])\n",
    "                #bias_error = np.dot(np.reshape(self.bias[self.num_layers-1], (1, self.num_neurons[self.num_layers-1])), error)\n",
    "               \n",
    "                change = np.reshape(self.layers[self.num_layers-2], (1, self.num_neurons[self.num_layers-2])) * last_error\n",
    "                self.new_weights[self.num_layers-1] = self.weights[self.num_layers-1] - self.rate*change\n",
    "                #self.bias[self.num_layers-1] -= bias_error*self.rate\n",
    "                \n",
    "                # error for remaining of layers\n",
    "                for i in range(self.num_layers-2, -1, -1):\n",
    "                    error = self.layers[i]*(1-self.layers[i])*np.dot(np.transpose(self.weights[i+1]), last_error)\n",
    "\n",
    "                   \n",
    "                    #bias_error = np.dot(np.reshape(self.bias[i], (1, self.num_neurons[i])), error)            \n",
    "                    if(i == 0):    \n",
    "                        change = np.reshape(data.reshape((self.ndata, 1)), (1, self.ndata)) * error\n",
    "                    else:\n",
    "                        change = np.reshape(self.layers[i-1], (1, self.num_neurons[i-1])) * error\n",
    "                   \n",
    "                    self.new_weights[i] = self.weights[i] - self.rate*change\n",
    "                    last_error = error\n",
    "                \n",
    "               \n",
    "                self.weights = self.new_weights.copy()\n",
    "                #self.bias[i] -= bias_error * self.rate\n",
    "                    \n",
    "    def test(self, test_data, test_target):\n",
    "        suma = 0\n",
    "        for j, data in enumerate(test_data):\n",
    "                layer = data.reshape((self.ndata, 1))\n",
    "                for i in range(self.num_layers):\n",
    "                    result = np.dot(self.weights[i], layer) #+ self.bias[i]\n",
    "                    act = self.act_function[self.activation[i]](result)\n",
    "                    layer = act\n",
    "                \n",
    "                s = abs(test_target[j] - layer)\n",
    "                suma += s\n",
    "                \n",
    "        print(suma/test_data.shape[0])\n",
    "    \n",
    "    def predict(self, data):\n",
    "        layer = data.reshape((self.ndata, 1))\n",
    "        for i in range(self.num_layers):\n",
    "            result = np.dot(self.weights[i], layer) #+ self.bias[i]\n",
    "            act = self.act_function[self.activation[i]](result)\n",
    "            layer = act\n",
    "        return layer\n"
   ]
  },
  {
   "cell_type": "code",
   "execution_count": 448,
   "metadata": {},
   "outputs": [],
   "source": [
    "net = skynet(3, [100,20,10], 0.1, [\"sigmoid\", \"sigmoid\", \"softmax\"], 1)\n",
    "# train, train_tar, validation, validation_tar, test, test_tar = net.load_dataset(fileName, True)\n",
    "train, validation, test = net.load_number_dataset()\n",
    "\n",
    "# train = net.normalize(train)"
   ]
  },
  {
   "cell_type": "code",
   "execution_count": 450,
   "metadata": {},
   "outputs": [],
   "source": [
    "net.train(train[0], train[1])"
   ]
  },
  {
   "cell_type": "code",
   "execution_count": 439,
   "metadata": {},
   "outputs": [
    {
     "data": {
      "text/plain": [
       "0.0"
      ]
     },
     "execution_count": 439,
     "metadata": {},
     "output_type": "execute_result"
    }
   ],
   "source": [
    "targ[2]"
   ]
  },
  {
   "cell_type": "code",
   "execution_count": 438,
   "metadata": {},
   "outputs": [
    {
     "ename": "TypeError",
     "evalue": "only size-1 arrays can be converted to Python scalars",
     "output_type": "error",
     "traceback": [
      "\u001b[1;31m---------------------------------------------------------------------------\u001b[0m",
      "\u001b[1;31mTypeError\u001b[0m                                 Traceback (most recent call last)",
      "\u001b[1;32m<ipython-input-438-af1e2a4b307d>\u001b[0m in \u001b[0;36m<module>\u001b[1;34m()\u001b[0m\n\u001b[1;32m----> 1\u001b[1;33m \u001b[0mnet\u001b[0m\u001b[1;33m.\u001b[0m\u001b[0moneHot\u001b[0m\u001b[1;33m(\u001b[0m\u001b[0mtrain\u001b[0m\u001b[1;33m[\u001b[0m\u001b[1;36m1\u001b[0m\u001b[1;33m]\u001b[0m\u001b[1;33m)\u001b[0m\u001b[1;33m\u001b[0m\u001b[0m\n\u001b[0m",
      "\u001b[1;32m<ipython-input-426-914130a69d47>\u001b[0m in \u001b[0;36moneHot\u001b[1;34m(self, num)\u001b[0m\n\u001b[0;32m     62\u001b[0m     \u001b[1;32mdef\u001b[0m \u001b[0moneHot\u001b[0m\u001b[1;33m(\u001b[0m\u001b[0mself\u001b[0m\u001b[1;33m,\u001b[0m \u001b[0mnum\u001b[0m\u001b[1;33m)\u001b[0m\u001b[1;33m:\u001b[0m\u001b[1;33m\u001b[0m\u001b[0m\n\u001b[0;32m     63\u001b[0m         \u001b[0ma\u001b[0m \u001b[1;33m=\u001b[0m \u001b[0mnp\u001b[0m\u001b[1;33m.\u001b[0m\u001b[0mzeros\u001b[0m\u001b[1;33m(\u001b[0m\u001b[1;33m(\u001b[0m\u001b[1;36m10\u001b[0m\u001b[1;33m,\u001b[0m\u001b[1;36m1\u001b[0m\u001b[1;33m)\u001b[0m\u001b[1;33m)\u001b[0m\u001b[1;33m\u001b[0m\u001b[0m\n\u001b[1;32m---> 64\u001b[1;33m         \u001b[0ma\u001b[0m\u001b[1;33m[\u001b[0m\u001b[0mint\u001b[0m\u001b[1;33m(\u001b[0m\u001b[0mnum\u001b[0m\u001b[1;33m)\u001b[0m\u001b[1;33m]\u001b[0m \u001b[1;33m=\u001b[0m \u001b[1;36m1\u001b[0m\u001b[1;33m\u001b[0m\u001b[0m\n\u001b[0m\u001b[0;32m     65\u001b[0m         \u001b[1;32mreturn\u001b[0m \u001b[0ma\u001b[0m\u001b[1;33m\u001b[0m\u001b[0m\n\u001b[0;32m     66\u001b[0m \u001b[1;33m\u001b[0m\u001b[0m\n",
      "\u001b[1;31mTypeError\u001b[0m: only size-1 arrays can be converted to Python scalars"
     ]
    }
   ],
   "source": [
    "net.oneHot(train[1])"
   ]
  },
  {
   "cell_type": "code",
   "execution_count": 393,
   "metadata": {},
   "outputs": [
    {
     "name": "stdout",
     "output_type": "stream",
     "text": [
      "[[0.6     0.25    0.07372 0.00003]\n",
      " [0.2     0.75    0.0522  0.46288]\n",
      " [0.      0.      0.27235 0.11829]\n",
      " ...\n",
      " [0.2     1.      0.11641 0.21573]\n",
      " [0.4     0.75    0.0015  0.78931]\n",
      " [0.      0.5     0.40694 0.12939]]\n"
     ]
    }
   ],
   "source": [
    "print(test[:1000])"
   ]
  },
  {
   "cell_type": "code",
   "execution_count": 431,
   "metadata": {},
   "outputs": [
    {
     "data": {
      "text/plain": [
       "2"
      ]
     },
     "execution_count": 431,
     "metadata": {},
     "output_type": "execute_result"
    }
   ],
   "source": [
    "len(train)"
   ]
  },
  {
   "cell_type": "code",
   "execution_count": null,
   "metadata": {},
   "outputs": [],
   "source": []
  }
 ],
 "metadata": {
  "kernelspec": {
   "display_name": "Python 3",
   "language": "python",
   "name": "python3"
  },
  "language_info": {
   "codemirror_mode": {
    "name": "ipython",
    "version": 3
   },
   "file_extension": ".py",
   "mimetype": "text/x-python",
   "name": "python",
   "nbconvert_exporter": "python",
   "pygments_lexer": "ipython3",
   "version": "3.6.4"
  }
 },
 "nbformat": 4,
 "nbformat_minor": 2
}
