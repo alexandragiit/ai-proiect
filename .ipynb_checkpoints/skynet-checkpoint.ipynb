{
 "cells": [
  {
   "cell_type": "code",
   "execution_count": 244,
   "metadata": {},
   "outputs": [],
   "source": [
    "import numpy as np\n",
    "import pickle, gzip\n",
    "np.set_printoptions(precision=5, suppress = True)\n",
    "import math\n",
    "from tqdm.notebook import tqdm\n",
    "import pandas as pd\n",
    "from datetime import datetime"
   ]
  },
  {
   "cell_type": "code",
   "execution_count": 272,
   "metadata": {},
   "outputs": [],
   "source": [
    "fileName = 'polidataset.csv'\n",
    "class skynet: \n",
    "    def __init__(self, num_layers, num_neurons_layer, rate, activation, n_epoch):\n",
    "        self.num_layers = num_layers\n",
    "        self.num_neurons = num_neurons_layer\n",
    "        self.rate = rate\n",
    "        self.activation = activation # [\"sigmoid\", \"softmax\" ...]\n",
    "        self.weights = {}\n",
    "        self.new_weights = {}\n",
    "        self.bias = {}\n",
    "        self.layers = {}\n",
    "        \n",
    "        self.layer_error = {} # for log\n",
    "        self.layer_change = {} # for log\n",
    "        self.n_epoch = n_epoch\n",
    "        self.act_function = {\"sigmoid\":self.sigmoid, \"softmax\":self.softmax, \"linear\":self.linear, \"relu\":self.relu}\n",
    "        self.dataset = np.array([])\n",
    "        self.originalDataset = np.array([])\n",
    "        now = datetime.now()\n",
    "        self.logFile = now.strftime(\"%m-%d-%Y-%H-%M-%S.txt\")\n",
    "        open(self.logFile, \"w+\")\n",
    "\n",
    "    def normalize(self, data):\n",
    "        \n",
    "        from sklearn import preprocessing\n",
    "\n",
    "        #returns a numpy array\n",
    "        min_max_scaler = preprocessing.MinMaxScaler()\n",
    "        x_scaled = min_max_scaler.fit_transform(data)\n",
    "        return x_scaled\n",
    "        # normalizarea presupune ca toate valorile sa fie numerice si sa fie in [0, 1]\n",
    "#         upperLimit = 1\n",
    "#         return ((self.dataset-self.dataset.min())/(self.dataset.max()-self.dataset.min()))*upperLimit\n",
    "\n",
    "\n",
    "    def load_dataset(self, name, normalize = True):\n",
    "        self.dataset = pd.read_csv(name)\n",
    "        self.originalDataset = self.dataset[:]\n",
    "        # frac specifica fractiunea de randuri pe care sa le returnezi intr un sample random\n",
    "        # deci frac=1 zice sa returnam toate randurile (random)\n",
    "        self.dataset = self.dataset.sample(frac=1)\n",
    "        \n",
    "#         if(normalize):\n",
    "            # normalizam datele\n",
    "#             self.dataset = self.normalize()\n",
    "#         else:\n",
    "#             self.dataset = self.originalDataset[:]\n",
    "\n",
    "        # impart datele in tempSet + validationSet, apoi tempSet in testSet + trainingSet\n",
    "        msk = np.random.rand(len(self.dataset)) <= 0.9\n",
    "        tempset = self.dataset[msk]\n",
    "        testset = self.dataset[~msk]\n",
    "        msk = np.random.rand(len(tempset)) <= 0.9\n",
    "        trainingset = tempset[msk]\n",
    "        validationset = tempset[~msk]\n",
    "        \n",
    "        trainingset = np.array(trainingset)\n",
    "        validationset = np.array(validationset)\n",
    "        testset = np.array(testset)\n",
    "        l = trainingset.shape[1]\n",
    "        \n",
    "        self.ninput = trainingset.shape[0] # number of instances\n",
    "        self.ndata = trainingset.shape[1] -1  # number of atributes -1 = minus target\n",
    "        \n",
    "        \n",
    "        return trainingset[:,0:l-1], trainingset[:,l-1], validationset[:,0:l-1], validationset[:,l-1], testset[:,0:l-1], testset[:,l-1]\n",
    "\n",
    "    def oneHot(self, num):\n",
    "        a = np.zeros((10,1))\n",
    "        a[num] = 1\n",
    "        return a\n",
    "    \n",
    "    def linear(self, layer):\n",
    "        return layer\n",
    "    \n",
    "    def sigmoid(self, layer):\n",
    "        new = np.ones(layer.shape, dtype = float)\n",
    "        for i in range(new.shape[0]):\n",
    "            new[i] = 1 / (1 + np.exp(-layer[i]))\n",
    "        return new\n",
    "    \n",
    "    def softmax(self, layer):\n",
    "        new = np.ones(layer.shape, dtype = float)\n",
    "        suma = 0\n",
    "        for i in range(new.shape[0]):\n",
    "            new[i] = np.exp(layer[i])\n",
    "            suma += new[i]\n",
    "        new = new / suma\n",
    "        return new\n",
    "    \n",
    "    def relu(self, layer):\n",
    "        new = np.zeros(layer.shape, dtype = float)\n",
    "        for i in range(new.shape[0]):\n",
    "            if(layer[i] > 0):\n",
    "                new[i] = layer[i]\n",
    "        return new\n",
    "    \n",
    "    def createLog(self):\n",
    "            f = open(self.logFile, \"a\")\n",
    "            for i, _ in enumerate(self.layers):\n",
    "                f.write(f'layer {i}\\n')\n",
    "                np.savetxt(f,self.layers[i], fmt=\"%03.8f\" )\n",
    "            for i in range(self.num_layers-1, -1, -1):\n",
    "                f.write(f'error {i}\\n')\n",
    "                np.savetxt(f,self.layer_error[i], fmt=\"%03.8f\")\n",
    "                f.write(\"change\\n\")\n",
    "                np.savetxt(f,self.layer_change[i], fmt=\"%03.8f\")\n",
    "            for i in range(self.num_layers):\n",
    "                f.write(f\"weights {i}\\n\")\n",
    "                np.savetxt(f,self.weights[i], fmt=\"%03.8f\")\n",
    "            f.write(\"\\n\\n\")\n",
    "            f.close()\n",
    "    \n",
    "    def load_number_dataset(self):\n",
    "        ''' data has to be type numpy.ndarray '''\n",
    "        # iau datele dintr-un fisier cu pickle\n",
    "        f = gzip.open('mnist.pkl.gz', 'rb')\n",
    "        train_set, valid_set, test_set = pickle.load(f, encoding='latin1')\n",
    "        f.close()\n",
    "\n",
    "        # vectorii astia sunt folositi pentru antrenarea retelei\n",
    "        self.train_data = train_set[0] # shape (50000,784) adica 50000 de vectori de dimensiune 784 ce reprezinta 50000 de poze cu cifre\n",
    "        self.train_target = train_set[1] # shape (50000, ) reprezinta numarul desenat in fiecare imagine \n",
    "\n",
    "        # vecotrii astia sunt folositi pentru testarea retelei\n",
    "        self.test_data = test_set[0]\n",
    "        self.test_target = test_set[1]\n",
    "\n",
    "        self.ninput = self.train_data.shape[0]\n",
    "        self.ndata = self.train_data.shape[1]\n",
    "        \n",
    "        return train_set, valid_set, test_set\n",
    "    \n",
    "#\n",
    "    def train(self, train_data, train_target):          \n",
    "        self.weights[0] = np.random.normal(0.0, 1/math.sqrt(self.ndata), (self.num_neurons[0], self.ndata))\n",
    "        self.bias[0] = np.zeros((self.num_neurons[0],1)) + 0.01\n",
    "\n",
    "        for i in range(1,self.num_layers):\n",
    "            self.weights[i] = np.random.normal(0.0, 1/math.sqrt(self.num_neurons[i-1]), (self.num_neurons[i], self.num_neurons[i-1]))      \n",
    "            self.bias[i] = np.zeros((self.num_neurons[i],1)) + 0.01\n",
    "            \n",
    "        self.new_weights = self.weights\n",
    "        for ep in tqdm(range(self.n_epoch)):\n",
    "            er = 0\n",
    "            for j, data in enumerate(tqdm(train_data)):\n",
    "                # feed forward\n",
    "                layer = data.reshape((data.shape[0], 1))\n",
    "                for i in range(self.num_layers):\n",
    "                    result = np.dot(self.weights[i], layer) + self.bias[i]\n",
    "                    act = self.act_function[self.activation[i]](result)         \n",
    "                    self.layers[i] = act\n",
    "                    layer = act\n",
    "\n",
    "                #eroare pentru ultimul layer\n",
    "#                 last_error = self.layers[self.num_layers-1] - self.oneHot(train_target[j])\n",
    "                last_error = self.layers[self.num_layers-1] - train_target[j]\n",
    "            \n",
    "                change = np.reshape(self.layers[self.num_layers-2], (1, self.num_neurons[self.num_layers-2])) * last_error\n",
    "                bias_change = np.dot(np.reshape(self.bias[self.num_layers-1], (1, self.num_neurons[self.num_layers-1])), last_error)\n",
    "                \n",
    "                # update\n",
    "                self.new_weights[self.num_layers-1] = self.weights[self.num_layers-1]  - self.rate*change\n",
    "                self.bias[self.num_layers-1] -= self.rate*bias_change\n",
    "\n",
    "                # ----- for log-----\n",
    "                self.layer_change[self.num_layers-1] = change \n",
    "                self.layer_error[self.num_layers-1] = last_error \n",
    "                er += last_error*last_error # pt statistica\n",
    "                # -------------\n",
    "                \n",
    "                # error for remaining of layers\n",
    "                for i in range(self.num_layers-2, -1, -1):\n",
    "                    error = self.layers[i]*(1-self.layers[i])*np.dot(np.transpose(self.weights[i+1]), last_error)        \n",
    "                    if(i == 0):    \n",
    "                        change = np.reshape(data.reshape((self.ndata, 1)), (1, self.ndata)) * error\n",
    "                    else:\n",
    "                        change = np.reshape(self.layers[i-1], (1, self.num_neurons[i-1])) * error\n",
    "                    bias_change = np.dot(np.reshape(self.bias[i], (1, self.num_neurons[i])), error)  \n",
    "        \n",
    "                    self.new_weights[i] = self.weights[i] - self.rate*change\n",
    "                    self.bias[i] -=  self.rate*bias_change\n",
    "                    \n",
    "                    last_error = error\n",
    "                    \n",
    "                    #------ for log -----\n",
    "                    self.layer_error[i] = error\n",
    "                    self.layer_change[i] = change\n",
    "                    #-------\n",
    "                    \n",
    "                self.weights = self.new_weights.copy()\n",
    "            self.createLog()\n",
    "            print(\"Eroare: \", er/train_data.shape[0])\n",
    "                \n",
    "                    \n",
    "    def test(self, test_data, test_target):\n",
    "        suma = 0\n",
    "        for j, data in enumerate(test_data):\n",
    "                layer = data.reshape((self.ndata, 1))\n",
    "                for i in range(self.num_layers):\n",
    "                    result = np.dot(self.weights[i], layer) + self.bias[i]\n",
    "                    act = self.act_function[self.activation[i]](result)\n",
    "                    layer = act\n",
    "                s = abs(test_target[j] - layer)\n",
    "                suma += s\n",
    "#                 if(np.argmax(layer) == test_target[j]):\n",
    "#                     suma += 1\n",
    "                \n",
    "        print(suma/test_data.shape[0])\n",
    "    \n",
    "    def predict(self, data):\n",
    "        layer = data.reshape((self.ndata, 1))\n",
    "        for i in range(self.num_layers):\n",
    "            result = np.dot(self.weights[i], layer) + self.bias[i]\n",
    "            act = self.act_function[self.activation[i]](result)\n",
    "            layer = act\n",
    "        return layer\n"
   ]
  },
  {
   "cell_type": "code",
   "execution_count": 273,
   "metadata": {},
   "outputs": [],
   "source": [
    "net = skynet(4, [50, 20, 10, 1], 0.0001, [\"relu\", \"relu\", \"relu\", \"linear\"], 10)\n",
    "train, train_tar, validation, validation_tar, test, test_tar = net.load_dataset(fileName, True)\n",
    "train = net.normalize(train)\n",
    "test = net.normalize(test)\n",
    "\n",
    "# net = skynet(2, [100,10], 0.1, [\"sigmoid\", \"sigmoid\", \"softmax\"], 1)\n",
    "# train, validation, test = net.load_number_dataset()\n",
    "\n"
   ]
  },
  {
   "cell_type": "code",
   "execution_count": 274,
   "metadata": {},
   "outputs": [
    {
     "data": {
      "application/vnd.jupyter.widget-view+json": {
       "model_id": "915aebffe2bc4d29a09b5fb2599825b5",
       "version_major": 2,
       "version_minor": 0
      },
      "text/plain": [
       "HBox(children=(FloatProgress(value=0.0, max=10.0), HTML(value='')))"
      ]
     },
     "metadata": {},
     "output_type": "display_data"
    },
    {
     "data": {
      "application/vnd.jupyter.widget-view+json": {
       "model_id": "a87b72b3b7e64c7dbf63c7e20199ae28",
       "version_major": 2,
       "version_minor": 0
      },
      "text/plain": [
       "HBox(children=(FloatProgress(value=0.0, max=43916.0), HTML(value='')))"
      ]
     },
     "metadata": {},
     "output_type": "display_data"
    },
    {
     "name": "stdout",
     "output_type": "stream",
     "text": [
      "\n",
      "Eroare:  [[0.41696]]\n"
     ]
    },
    {
     "data": {
      "application/vnd.jupyter.widget-view+json": {
       "model_id": "3eaf110172974c20b3410cc206f0a6b1",
       "version_major": 2,
       "version_minor": 0
      },
      "text/plain": [
       "HBox(children=(FloatProgress(value=0.0, max=43916.0), HTML(value='')))"
      ]
     },
     "metadata": {},
     "output_type": "display_data"
    },
    {
     "name": "stdout",
     "output_type": "stream",
     "text": [
      "\n",
      "Eroare:  [[0.09812]]\n"
     ]
    },
    {
     "data": {
      "application/vnd.jupyter.widget-view+json": {
       "model_id": "44c353b0409147c1bea5f19569795118",
       "version_major": 2,
       "version_minor": 0
      },
      "text/plain": [
       "HBox(children=(FloatProgress(value=0.0, max=43916.0), HTML(value='')))"
      ]
     },
     "metadata": {},
     "output_type": "display_data"
    },
    {
     "name": "stdout",
     "output_type": "stream",
     "text": [
      "\n",
      "Eroare:  [[0.06871]]\n"
     ]
    },
    {
     "data": {
      "application/vnd.jupyter.widget-view+json": {
       "model_id": "bee275f0c65845d7917099db15862439",
       "version_major": 2,
       "version_minor": 0
      },
      "text/plain": [
       "HBox(children=(FloatProgress(value=0.0, max=43916.0), HTML(value='')))"
      ]
     },
     "metadata": {},
     "output_type": "display_data"
    },
    {
     "name": "stdout",
     "output_type": "stream",
     "text": [
      "\n",
      "Eroare:  [[0.06018]]\n"
     ]
    },
    {
     "data": {
      "application/vnd.jupyter.widget-view+json": {
       "model_id": "f846e8db5d17462f810580a532c596d3",
       "version_major": 2,
       "version_minor": 0
      },
      "text/plain": [
       "HBox(children=(FloatProgress(value=0.0, max=43916.0), HTML(value='')))"
      ]
     },
     "metadata": {},
     "output_type": "display_data"
    },
    {
     "name": "stdout",
     "output_type": "stream",
     "text": [
      "\n",
      "Eroare:  [[0.05365]]\n"
     ]
    },
    {
     "data": {
      "application/vnd.jupyter.widget-view+json": {
       "model_id": "55a068acdd8d4db1918b84e224011b20",
       "version_major": 2,
       "version_minor": 0
      },
      "text/plain": [
       "HBox(children=(FloatProgress(value=0.0, max=43916.0), HTML(value='')))"
      ]
     },
     "metadata": {},
     "output_type": "display_data"
    },
    {
     "name": "stdout",
     "output_type": "stream",
     "text": [
      "\n",
      "Eroare:  [[0.04852]]\n"
     ]
    },
    {
     "data": {
      "application/vnd.jupyter.widget-view+json": {
       "model_id": "96203672198a4888b8ca02de7c5873c8",
       "version_major": 2,
       "version_minor": 0
      },
      "text/plain": [
       "HBox(children=(FloatProgress(value=0.0, max=43916.0), HTML(value='')))"
      ]
     },
     "metadata": {},
     "output_type": "display_data"
    },
    {
     "name": "stdout",
     "output_type": "stream",
     "text": [
      "\n",
      "Eroare:  [[0.04444]]\n"
     ]
    },
    {
     "data": {
      "application/vnd.jupyter.widget-view+json": {
       "model_id": "ad37623f7672467bbabf673abf81b259",
       "version_major": 2,
       "version_minor": 0
      },
      "text/plain": [
       "HBox(children=(FloatProgress(value=0.0, max=43916.0), HTML(value='')))"
      ]
     },
     "metadata": {},
     "output_type": "display_data"
    },
    {
     "name": "stdout",
     "output_type": "stream",
     "text": [
      "\n",
      "Eroare:  [[0.04115]]\n"
     ]
    },
    {
     "data": {
      "application/vnd.jupyter.widget-view+json": {
       "model_id": "93246ef46e3b4e1a85f9442cb2bd0fa8",
       "version_major": 2,
       "version_minor": 0
      },
      "text/plain": [
       "HBox(children=(FloatProgress(value=0.0, max=43916.0), HTML(value='')))"
      ]
     },
     "metadata": {},
     "output_type": "display_data"
    },
    {
     "name": "stdout",
     "output_type": "stream",
     "text": [
      "\n",
      "Eroare:  [[0.03847]]\n"
     ]
    },
    {
     "data": {
      "application/vnd.jupyter.widget-view+json": {
       "model_id": "2c6ebe1c628f4e318ace532cbce61e39",
       "version_major": 2,
       "version_minor": 0
      },
      "text/plain": [
       "HBox(children=(FloatProgress(value=0.0, max=43916.0), HTML(value='')))"
      ]
     },
     "metadata": {},
     "output_type": "display_data"
    },
    {
     "name": "stdout",
     "output_type": "stream",
     "text": [
      "\n",
      "Eroare:  [[0.03624]]\n",
      "\n",
      "[[0.13731]]\n"
     ]
    }
   ],
   "source": [
    "net.train(train, train_tar)\n",
    "net.test(test, test_tar)\n",
    "\n",
    "# net.train(train[0],train[1])\n",
    "# net.test(test[0], test[1])\n"
   ]
  },
  {
   "cell_type": "code",
   "execution_count": null,
   "metadata": {},
   "outputs": [],
   "source": [
    "# weight regularization (L1 - L2)\n",
    "# gradient clipping\n",
    "#  LSTM memory\n",
    "# net.predict(net.oneHot(test[0][0]))"
   ]
  },
  {
   "cell_type": "code",
   "execution_count": null,
   "metadata": {},
   "outputs": [],
   "source": []
  },
  {
   "cell_type": "code",
   "execution_count": null,
   "metadata": {},
   "outputs": [],
   "source": []
  }
 ],
 "metadata": {
  "kernelspec": {
   "display_name": "Python 3",
   "language": "python",
   "name": "python3"
  },
  "language_info": {
   "codemirror_mode": {
    "name": "ipython",
    "version": 3
   },
   "file_extension": ".py",
   "mimetype": "text/x-python",
   "name": "python",
   "nbconvert_exporter": "python",
   "pygments_lexer": "ipython3",
   "version": "3.6.5"
  }
 },
 "nbformat": 4,
 "nbformat_minor": 2
}
